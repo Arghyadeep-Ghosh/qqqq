{
  "nbformat": 4,
  "nbformat_minor": 0,
  "metadata": {
    "colab": {
      "provenance": []
    },
    "kernelspec": {
      "name": "python3",
      "display_name": "Python 3"
    },
    "language_info": {
      "name": "python"
    }
  },
  "cells": [
    {
      "cell_type": "code",
      "source": [
        "# Q1)  Write a Python script to load the Superstore dataset from a CSV file into MongoDB\n",
        "\n",
        "from pymongo import MongoClient\n",
        "\n",
        "#  Select the database and collection\n",
        "db = client[\"SuperstoreDB\"]  # Creating/Selecting the database\n",
        "collection = db[\"Orders\"]  # Creating/Selecting the collection\n",
        "\n",
        "#Convert DataFrame to a list of dictionaries (MongoDB format)\n",
        "data = df.to_dict(orient=\"records\")\n",
        "\n",
        "# Insert data into MongoDB\n",
        "collection.insert_many(data)\n",
        "\n",
        "print(\"Data successfully loaded into MongoDB!\")\n",
        "\n",
        "# Output - Data successfully loaded into MongoDB!"
      ],
      "metadata": {
        "colab": {
          "base_uri": "https://localhost:8080/"
        },
        "id": "xN3c7_zWggeo",
        "outputId": "b056af81-2d9e-49d4-d547-5c1e57db62f6"
      },
      "execution_count": null,
      "outputs": [
        {
          "output_type": "stream",
          "name": "stdout",
          "text": [
            "Data successfully loaded into MongoDB!\n"
          ]
        }
      ]
    },
    {
      "cell_type": "code",
      "source": [
        "# Q2)Retrieve and print all documents from the Orders collection.\n",
        "\n",
        "# Retrieve and print all documents from the Orders collection\n",
        "for doc in collection.find():\n",
        "    print(doc)\n"
      ],
      "metadata": {
        "id": "uFGQxi_Wpa1S"
      },
      "execution_count": null,
      "outputs": []
    },
    {
      "cell_type": "code",
      "source": [
        "# Q3) Count and display the total number of documents in the Orders collection.\n",
        "\n",
        "# Count the total number of documents in the Orders collection\n",
        "total_docs = collection.count_documents({})\n",
        "print(\"Total number of documents in Orders collection:\", total_docs)\n"
      ],
      "metadata": {
        "colab": {
          "base_uri": "https://localhost:8080/"
        },
        "id": "OwoomKlxp7Vj",
        "outputId": "e7f18178-be85-4032-c02c-4738900237ba"
      },
      "execution_count": null,
      "outputs": [
        {
          "output_type": "stream",
          "name": "stdout",
          "text": [
            "Total number of documents in Orders collection: 20284\n"
          ]
        }
      ]
    },
    {
      "cell_type": "code",
      "source": [
        "# Q4) Write a query to fetch all orders from the \"West\" region.\n",
        "\n",
        "# Query to fetch all orders from the \"West\" region\n",
        "west_orders = collection.find({\"Region\": \"West\"})\n",
        "\n",
        "# Display the fetched documents\n",
        "for order in west_orders:\n",
        "    print(order)\n"
      ],
      "metadata": {
        "id": "KDYJaxYwqL8a"
      },
      "execution_count": null,
      "outputs": []
    },
    {
      "cell_type": "code",
      "source": [
        "# Q5) Write a query to find orders where Sales is greater than 500\n",
        "\n",
        "# Query to fetch orders where Sales > 500\n",
        "high_sales_orders = collection.find({\"Sales\": {\"$gt\": 500}})\n",
        "\n",
        "# Display the fetched documents\n",
        "for order in high_sales_orders:\n",
        "    print(order)\n"
      ],
      "metadata": {
        "id": "OVTAIhVoqVz0"
      },
      "execution_count": null,
      "outputs": []
    },
    {
      "cell_type": "code",
      "source": [
        "#Q6)  Fetch the top 3 orders with the highest Profit.\n",
        "\n",
        "# Query to fetch the top 3 orders sorted by Profit in descending order\n",
        "top_profit_orders = collection.find().sort(\"Profit\", -1).limit(3)\n",
        "\n",
        "# Display the fetched documents\n",
        "for order in top_profit_orders:\n",
        "    print(order)\n",
        "\n",
        "\n"
      ],
      "metadata": {
        "colab": {
          "base_uri": "https://localhost:8080/"
        },
        "id": "y6DXsocWsL6K",
        "outputId": "83f82f50-aaa3-4097-b981-dd0cf4a77137"
      },
      "execution_count": null,
      "outputs": [
        {
          "output_type": "stream",
          "name": "stdout",
          "text": [
            "{'_id': ObjectId('67adade1b654be7bed47fbeb'), 'Row ID': 6827, 'Order ID': 'CA-2016-118689', 'Order Date': '10/2/2016', 'Ship Date': '10/9/2016', 'Ship Mode': 'Standard Class', 'Customer ID': 'TC-20980', 'Customer Name': 'Tamara Chand', 'Segment': 'Corporate', 'Country': 'United States', 'City': 'Lafayette', 'State': 'Indiana', 'Postal Code': 47905, 'Region': 'Central', 'Product ID': 'TEC-CO-10004722', 'Category': 'Technology', 'Sub-Category': 'Copiers', 'Product Name': 'Canon imageCLASS 2200 Advanced Copier', 'Sales': 17499.95, 'Quantity': 5, 'Discount': 0.0, 'Profit': 8399.976}\n",
            "{'_id': ObjectId('67ad96ef085a4ce2580bbd58'), 'Row ID': 6827, 'Order ID': 'CA-2016-118689', 'Order Date': '10/2/2016', 'Ship Date': '10/9/2016', 'Ship Mode': 'Standard Class', 'Customer ID': 'TC-20980', 'Customer Name': 'Tamara Chand', 'Segment': 'Corporate', 'Country': 'United States', 'City': 'Lafayette', 'State': 'Indiana', 'Postal Code': 47905, 'Region': 'Central', 'Product ID': 'TEC-CO-10004722', 'Category': 'Technology', 'Sub-Category': 'Copiers', 'Product Name': 'Canon imageCLASS 2200 Advanced Copier', 'Sales': 17499.95, 'Quantity': 5, 'Discount': 0.0, 'Profit': 8399.976}\n",
            "{'_id': ObjectId('67ad79dff3f322e9365e380f'), 'Row ID': 6827, 'Order ID': 'CA-2016-118689', 'Order Date': '10/2/2016', 'Ship Date': '10/9/2016', 'Ship Mode': 'Standard Class', 'Customer ID': 'TC-20980', 'Customer Name': 'Tamara Chand', 'Segment': 'Corporate', 'Country': 'United States', 'City': 'Lafayette', 'State': 'Indiana', 'Postal Code': 47905, 'Region': 'Central', 'Product ID': 'TEC-CO-10004722', 'Category': 'Technology', 'Sub-Category': 'Copiers', 'Product Name': 'Canon imageCLASS 2200 Advanced Copier', 'Sales': 17499.95, 'Quantity': 5, 'Discount': 0.0, 'Profit': 8399.976}\n"
          ]
        }
      ]
    },
    {
      "cell_type": "code",
      "source": [
        "# Q7) Update all orders with Ship Mode as \"First Class\" to \"Premium Class\".\n",
        "\n",
        "# Update all documents where Ship Mode is \"First Class\" to \"Premium Class\"\n",
        "collection.update_many(\n",
        "    {\"Ship Mode\": \"First Class\"},  # Filter condition\n",
        "    {\"$set\": {\"Ship Mode\": \"Premium Class\"}}  # Update operation\n",
        ")\n",
        "\n",
        "print(\"Update successful: All 'First Class' Ship Modes changed to 'Premium Class'.\")\n",
        "\n",
        "# Output - Update successful: All 'First Class' Ship Modes changed to 'Premium Class'."
      ],
      "metadata": {
        "colab": {
          "base_uri": "https://localhost:8080/"
        },
        "id": "EHQ7tdfSsaTz",
        "outputId": "9985f605-ca73-4bf6-e71f-8ccc143f2e26"
      },
      "execution_count": null,
      "outputs": [
        {
          "output_type": "stream",
          "name": "stdout",
          "text": [
            "Update successful: All 'First Class' Ship Modes changed to 'Premium Class'.\n"
          ]
        }
      ]
    },
    {
      "cell_type": "code",
      "source": [
        "# Q8)  Delete all orders where Sales is less than 50\n",
        "\n",
        " # Delete all documents where Sales is less than 50\n",
        "result = collection.delete_many({\"Sales\": {\"$lt\": 50}})\n",
        "\n",
        "# Print the number of deleted documents\n",
        "print(f\"Deleted {result.deleted_count} orders where Sales was less than 50.\")\n",
        "\n",
        "# Output - Deleted 4849 orders where Sales was less than 50.\n"
      ],
      "metadata": {
        "colab": {
          "base_uri": "https://localhost:8080/"
        },
        "id": "3QsGoFR7sm-C",
        "outputId": "85290aaa-bf63-4938-ace4-f1443bb66cd3"
      },
      "execution_count": null,
      "outputs": [
        {
          "output_type": "stream",
          "name": "stdout",
          "text": [
            "Deleted 4849 orders where Sales was less than 50.\n"
          ]
        }
      ]
    },
    {
      "cell_type": "code",
      "source": [
        "# Q9) Use aggregation to group orders by Region and calculate total sales per region.\n",
        "\n",
        "# Aggregation pipeline to group by Region and sum Sales\n",
        "pipeline = [\n",
        "    {\"$group\": {\"_id\": \"$Region\", \"TotalSales\": {\"$sum\": \"$Sales\"}}},\n",
        "    {\"$sort\": {\"TotalSales\": -1}}  # Sorting in descending order of sales\n",
        "]\n",
        "\n",
        "# Execute aggregation\n",
        "result = collection.aggregate(pipeline)\n",
        "\n",
        "# Print the results\n",
        "for doc in result:\n",
        "    print(f\"Region: {doc['_id']}, Total Sales: {doc['TotalSales']}\")\n",
        "\n",
        "\n"
      ],
      "metadata": {
        "colab": {
          "base_uri": "https://localhost:8080/"
        },
        "id": "rAlGco-Xsyln",
        "outputId": "5c26921c-30ee-4695-e3c0-4257468f52f8"
      },
      "execution_count": null,
      "outputs": [
        {
          "output_type": "stream",
          "name": "stdout",
          "text": [
            "Region: West, Total Sales: 2084059.8585\n",
            "Region: East, Total Sales: 1953413.115\n",
            "Region: Central, Total Sales: 1438835.5374\n",
            "Region: South, Total Sales: 1128069.936\n"
          ]
        }
      ]
    },
    {
      "cell_type": "code",
      "source": [
        "# Q10)  Fetch all distinct values for Ship Mode from the collection.\n",
        "\n",
        "# Fetch distinct Ship Mode values\n",
        "distinct_ship_modes = collection.distinct(\"Ship Mode\")\n",
        "\n",
        "# Print the results\n",
        "print(distinct_ship_modes)\n",
        "\n",
        "# Output - ['Premium Class', 'Same Day', 'Second Class', 'Standard Class']\n"
      ],
      "metadata": {
        "colab": {
          "base_uri": "https://localhost:8080/"
        },
        "id": "ux0cf73gs9Dn",
        "outputId": "9b9c172e-f11b-4e7e-9a36-1aa9bef99243"
      },
      "execution_count": null,
      "outputs": [
        {
          "output_type": "stream",
          "name": "stdout",
          "text": [
            "['Premium Class', 'Same Day', 'Second Class', 'Standard Class']\n"
          ]
        }
      ]
    },
    {
      "cell_type": "code",
      "source": [
        "# Q11)  Count the number of orders for each category.\n",
        "\n",
        "# Aggregation query to count orders per category\n",
        "category_order_count = collection.aggregate([\n",
        "    {\"$group\": {\"_id\": \"$Category\", \"TotalOrders\": {\"$sum\": 1}}}\n",
        "])\n",
        "\n",
        "# Print the results\n",
        "for category in category_order_count:\n",
        "    print(category)\n",
        "\n",
        "\n"
      ],
      "metadata": {
        "colab": {
          "base_uri": "https://localhost:8080/"
        },
        "id": "3RH_8ZyDtE4g",
        "outputId": "83b52019-11c0-4c1e-9a36-c508fde978d4"
      },
      "execution_count": null,
      "outputs": [
        {
          "output_type": "stream",
          "name": "stdout",
          "text": [
            "{'_id': 'Technology', 'TotalOrders': 4488}\n",
            "{'_id': 'Furniture', 'TotalOrders': 4719}\n",
            "{'_id': 'Office Supplies', 'TotalOrders': 6228}\n"
          ]
        }
      ]
    }
  ]
}